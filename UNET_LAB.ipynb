{
  "cells": [
    {
      "cell_type": "code",
      "execution_count": 1,
      "metadata": {
        "id": "4wVt75eDv7xY"
      },
      "outputs": [],
      "source": [
        "import matplotlib.pyplot as plt\n",
        "import numpy as np\n",
        "import torch\n",
        "import torchvision\n",
        "import torchvision.transforms as transforms\n",
        "from skimage.color import rgb2lab, lab2rgb, rgb2gray"
      ]
    },
    {
      "cell_type": "code",
      "execution_count": 2,
      "metadata": {
        "id": "Yw1BfS2pv7xZ"
      },
      "outputs": [],
      "source": [
        "# transform to load images in LAB format\n",
        "LAB_transform = transforms.Compose([\n",
        "    transforms.ToTensor(),\n",
        "    transforms.Lambda(lambda x: x.permute(1,2,0)),\n",
        "    transforms.Lambda(rgb2lab),\n",
        "    transforms.ToTensor(),\n",
        "    transforms.Lambda(lambda x: (x[1:3,:,:]/128))\n",
        "        ])\n",
        "\n",
        "gray_transform = transforms.Compose([\n",
        "    transforms.ToTensor(),\n",
        "    transforms.Lambda(lambda x: x.permute(1,2,0)),\n",
        "    transforms.Lambda(rgb2gray),\n",
        "    transforms.ToTensor()])"
      ]
    },
    {
      "cell_type": "code",
      "execution_count": 4,
      "metadata": {
        "colab": {
          "base_uri": "https://localhost:8080/"
        },
        "id": "uqArAR3Zv7xa",
        "outputId": "95739988-e8bb-49a6-eb97-20f1515d3928"
      },
      "outputs": [
        {
          "output_type": "stream",
          "name": "stdout",
          "text": [
            "Downloading https://www.cs.toronto.edu/~kriz/cifar-10-python.tar.gz to ./data/cifar-10-python.tar.gz\n"
          ]
        },
        {
          "output_type": "stream",
          "name": "stderr",
          "text": [
            "100%|██████████| 170M/170M [00:05<00:00, 30.4MB/s]\n"
          ]
        },
        {
          "output_type": "stream",
          "name": "stdout",
          "text": [
            "Extracting ./data/cifar-10-python.tar.gz to ./data\n",
            "Files already downloaded and verified\n"
          ]
        }
      ],
      "source": [
        "train_input = torchvision.datasets.CIFAR10(root='./data', train=True,download=True, transform=gray_transform)\n",
        "train_output = torchvision.datasets.CIFAR10(root='./data', train=True,download=False, transform=LAB_transform)\n",
        "test_input = torchvision.datasets.CIFAR10(root='./data', train=False,download=True, transform=gray_transform)"
      ]
    },
    {
      "cell_type": "code",
      "execution_count": null,
      "metadata": {
        "id": "Tpc1xppGv7xa"
      },
      "outputs": [],
      "source": []
    },
    {
      "cell_type": "markdown",
      "metadata": {
        "id": "aO5CF9WZv7xa"
      },
      "source": [
        "In train dataset (without normalization) we have\n",
        "\n",
        "(L_min,L_max), (a_min, a_max), (b_min, b_max) = ((0.0, 100.0), (-86.183014, 98.23307), (-107.8573, 94.478134)). So we need to normalize a and b.\n",
        "\n",
        "a_mean, b_mean, a_std, b_std = (0.39576705794991573,5.7253268890978415,10.151768810843748,16.080949185536173)\n",
        "\n",
        "Normalizing this way is a bit weird, since I suspect that the distribution of a and b is not normal like.\n"
      ]
    },
    {
      "cell_type": "code",
      "execution_count": 5,
      "metadata": {
        "id": "m2pIKGhFv7xg"
      },
      "outputs": [],
      "source": [
        "def ab_mean_std(train_output):\n",
        "    a_sum, a_sq_sum, b_sum, b_sq_sum = 0,0,0,0\n",
        "    for train in train_output:\n",
        "        a, b = train[0][:,:,1], train[0][:,:,2]\n",
        "        a_sum += np.sum(a)\n",
        "        b_sum += np.sum(b)\n",
        "        a_sq_sum += np.sum(a**2)\n",
        "        b_sq_sum += np.sum(b**2)\n",
        "\n",
        "    pixel_count = len(train_output)*train_output[0][0].shape[0]*train_output[0][0].shape[1]\n",
        "    a_mean = a_sum /pixel_count\n",
        "    b_mean = b_sum /pixel_count\n",
        "\n",
        "    a_std = np.sqrt(a_sq_sum/pixel_count- a_mean**2)\n",
        "    b_std = np.sqrt(b_sq_sum/pixel_count - b_mean**2)\n",
        "    return a_mean, a_std, b_mean, b_std\n",
        ""
      ]
    },
    {
      "cell_type": "markdown",
      "metadata": {
        "id": "c4jhZAvZv7xg"
      },
      "source": [
        "# Building U-Net"
      ]
    },
    {
      "cell_type": "code",
      "execution_count": 6,
      "metadata": {
        "id": "GvtNkFhUv7xh"
      },
      "outputs": [],
      "source": [
        "import torch.nn as nn\n",
        "import torch\n",
        "import torch.nn.functional as F"
      ]
    },
    {
      "cell_type": "code",
      "execution_count": 7,
      "metadata": {
        "id": "n90akAufv7xh"
      },
      "outputs": [],
      "source": [
        "class DoubleConv(nn.Module):\n",
        "    def __init__(self, in_channels, out_channels):\n",
        "        super().__init__()\n",
        "        self.double_conv = nn.Sequential(\n",
        "            nn.Conv2d(in_channels, out_channels, kernel_size=3, padding=1),\n",
        "            nn.ReLU(inplace=True),\n",
        "            nn.BatchNorm2d(out_channels),\n",
        "            nn.Conv2d(out_channels, out_channels, kernel_size=3, padding=1),\n",
        "            nn.ReLU(inplace=True),\n",
        "            nn.BatchNorm2d(out_channels)\n",
        "        )\n",
        "\n",
        "    def forward(self, x):\n",
        "        return self.double_conv(x)\n",
        "\n",
        "class Down(nn.Module):\n",
        "    def __init__(self, in_channels, out_channels):\n",
        "        super().__init__()\n",
        "        self.maxpool_conv = nn.Sequential(\n",
        "            nn.MaxPool2d(2),\n",
        "            DoubleConv(in_channels, out_channels)\n",
        "        )\n",
        "\n",
        "    def forward(self, x):\n",
        "        return self.maxpool_conv(x)\n",
        "\n",
        "\n",
        "class Up(nn.Module):\n",
        "    def __init__(self, in_channels, out_channels):\n",
        "        super().__init__()\n",
        "        self.up = nn.ConvTranspose2d(in_channels, in_channels // 2, kernel_size=2, stride=2)\n",
        "        self.conv = DoubleConv(in_channels, out_channels)\n",
        "\n",
        "    def forward(self, x1, x2):\n",
        "        x1 = self.up(x1)\n",
        "        x = torch.cat([x2, x1], dim=1)\n",
        "        return self.conv(x)\n",
        "\n",
        "class UNet(nn.Module):\n",
        "\n",
        "    def __init__(self,depth=2, starting_width=64): # depth is the number of times you go down in the UNet\n",
        "        super().__init__()\n",
        "        self.conv = DoubleConv(1, starting_width)\n",
        "        self.depth = depth\n",
        "        self.down_list = nn.ModuleList([Down(starting_width*2**i, starting_width*2**(i+1)) for i in range(depth)])\n",
        "        self.up_list = nn.ModuleList([Up(starting_width*2**i,starting_width*2**(i-1)) for i in range(depth, 0,-1)])\n",
        "        self.final_conv = nn.Conv2d(starting_width, 2, kernel_size=1)\n",
        "\n",
        "    def forward(self, x):\n",
        "        x_arr = [self.conv(x)]\n",
        "\n",
        "        for down in self.down_list:\n",
        "            x_arr.append(down(x_arr[-1]))\n",
        "        y_arr = [self.up_list[0](x_arr[-1],x_arr[-2])]\n",
        "\n",
        "\n",
        "        for i,up in enumerate(self.up_list[1:]):\n",
        "            y_arr.append( up(y_arr[-1], x_arr[-i-3]) )\n",
        "\n",
        "        out = self.final_conv(y_arr[-1])\n",
        "        return out"
      ]
    },
    {
      "cell_type": "code",
      "execution_count": 54,
      "metadata": {
        "id": "YvUwVF01v7xh"
      },
      "outputs": [],
      "source": [
        "device = torch.device(\"cuda\" if torch.cuda.is_available() else \"cpu\")\n",
        "old_model = UNet(depth=1).to(device)"
      ]
    },
    {
      "cell_type": "code",
      "source": [
        "device"
      ],
      "metadata": {
        "colab": {
          "base_uri": "https://localhost:8080/"
        },
        "id": "Xentiq07wlff",
        "outputId": "8461b9b9-032e-47a9-a83e-b283698198f1"
      },
      "execution_count": 55,
      "outputs": [
        {
          "output_type": "execute_result",
          "data": {
            "text/plain": [
              "device(type='cuda')"
            ]
          },
          "metadata": {},
          "execution_count": 55
        }
      ]
    },
    {
      "cell_type": "code",
      "execution_count": 56,
      "metadata": {
        "colab": {
          "base_uri": "https://localhost:8080/"
        },
        "id": "Paq2M0QIv7xi",
        "outputId": "16f0fb8e-f174-4c05-adcd-bdb2f35e385f"
      },
      "outputs": [
        {
          "output_type": "execute_result",
          "data": {
            "text/plain": [
              "torch.Size([50, 2, 32, 32])"
            ]
          },
          "metadata": {},
          "execution_count": 56
        }
      ],
      "source": [
        "out = old_model(torch.rand(50,1,32,32).to(device))\n",
        "out.shape"
      ]
    },
    {
      "cell_type": "markdown",
      "metadata": {
        "id": "GB1_UlM2v7xi"
      },
      "source": [
        "## Data loader and training"
      ]
    },
    {
      "cell_type": "code",
      "execution_count": 11,
      "metadata": {
        "id": "dfBujQlzv7xj"
      },
      "outputs": [],
      "source": [
        "import torch.optim as optim\n",
        "from torch.utils.data import Dataset, DataLoader\n",
        "from torchvision import transforms\n",
        "from tqdm import tqdm, trange"
      ]
    },
    {
      "cell_type": "code",
      "execution_count": 12,
      "metadata": {
        "colab": {
          "base_uri": "https://localhost:8080/"
        },
        "id": "uD8oLoTLv7xj",
        "outputId": "8218a4a4-a745-4b64-f401-ece7eee0de3a"
      },
      "outputs": [
        {
          "output_type": "execute_result",
          "data": {
            "text/plain": [
              "6562"
            ]
          },
          "metadata": {},
          "execution_count": 12
        }
      ],
      "source": [
        "model = UNet(depth=1, starting_width=8).to(device)\n",
        "sum(p.numel() for p in model.parameters() if p.requires_grad)"
      ]
    },
    {
      "cell_type": "code",
      "execution_count": 27,
      "metadata": {
        "id": "ZmVWSpC1v7xj"
      },
      "outputs": [],
      "source": [
        "class CustomDataset(Dataset):\n",
        "    def __init__(self, input_data, target_data, transform=None):\n",
        "        self.input_data = input_data\n",
        "        self.target_data = target_data\n",
        "        #self.transform = transform\n",
        "\n",
        "    def __len__(self):\n",
        "        return len(self.input_data)\n",
        "\n",
        "    def __getitem__(self, idx):\n",
        "        input_image = self.input_data[idx][0]\n",
        "        target_image = self.target_data[idx][0]\n",
        "\n",
        "        #if self.transform:\n",
        "        #    input_image = self.transform(input_image)\n",
        "        #    target_image = self.transform(target_image)\n",
        "\n",
        "        return input_image, target_image\n",
        "\n",
        "# Hyperparameters\n",
        "batch_size = 1000\n",
        "learning_rate = 0.001\n",
        "weight_decay = 0.01  # AdamW weight decay parameter\n",
        "num_epochs = 10"
      ]
    },
    {
      "cell_type": "code",
      "execution_count": 28,
      "metadata": {
        "colab": {
          "base_uri": "https://localhost:8080/"
        },
        "id": "Go-DTHacv7xk",
        "outputId": "e0a4c57b-e70d-4b67-94e1-eff005632aca"
      },
      "outputs": [
        {
          "output_type": "execute_result",
          "data": {
            "text/plain": [
              "(1, 1, 32, 32)"
            ]
          },
          "metadata": {},
          "execution_count": 28
        }
      ],
      "source": [
        "ex = train_input[0][0]\n",
        "ex = np.expand_dims(ex,0)\n",
        "ex.shape"
      ]
    },
    {
      "cell_type": "code",
      "execution_count": 29,
      "metadata": {
        "id": "UDgoTENqv7xk"
      },
      "outputs": [],
      "source": [
        "dataset = CustomDataset(train_input, train_output)\n",
        "dataloader = DataLoader(dataset, batch_size=batch_size, shuffle=True,pin_memory=True)\n",
        "criterion = nn.MSELoss()\n",
        "optimizer = optim.AdamW(model.parameters(), lr=learning_rate, weight_decay=weight_decay)"
      ]
    },
    {
      "cell_type": "code",
      "execution_count": 30,
      "metadata": {
        "colab": {
          "base_uri": "https://localhost:8080/"
        },
        "id": "S98F-Lrev7xk",
        "outputId": "36e7f9bf-bef6-44c1-9e31-572559fdf243"
      },
      "outputs": [
        {
          "output_type": "stream",
          "name": "stdout",
          "text": [
            "----------------------------------------------------------------\n",
            "        Layer (type)               Output Shape         Param #\n",
            "================================================================\n",
            "            Conv2d-1            [-1, 8, 32, 32]              80\n",
            "              ReLU-2            [-1, 8, 32, 32]               0\n",
            "       BatchNorm2d-3            [-1, 8, 32, 32]              16\n",
            "            Conv2d-4            [-1, 8, 32, 32]             584\n",
            "              ReLU-5            [-1, 8, 32, 32]               0\n",
            "       BatchNorm2d-6            [-1, 8, 32, 32]              16\n",
            "        DoubleConv-7            [-1, 8, 32, 32]               0\n",
            "         MaxPool2d-8            [-1, 8, 16, 16]               0\n",
            "            Conv2d-9           [-1, 16, 16, 16]           1,168\n",
            "             ReLU-10           [-1, 16, 16, 16]               0\n",
            "      BatchNorm2d-11           [-1, 16, 16, 16]              32\n",
            "           Conv2d-12           [-1, 16, 16, 16]           2,320\n",
            "             ReLU-13           [-1, 16, 16, 16]               0\n",
            "      BatchNorm2d-14           [-1, 16, 16, 16]              32\n",
            "       DoubleConv-15           [-1, 16, 16, 16]               0\n",
            "             Down-16           [-1, 16, 16, 16]               0\n",
            "  ConvTranspose2d-17            [-1, 8, 32, 32]             520\n",
            "           Conv2d-18            [-1, 8, 32, 32]           1,160\n",
            "             ReLU-19            [-1, 8, 32, 32]               0\n",
            "      BatchNorm2d-20            [-1, 8, 32, 32]              16\n",
            "           Conv2d-21            [-1, 8, 32, 32]             584\n",
            "             ReLU-22            [-1, 8, 32, 32]               0\n",
            "      BatchNorm2d-23            [-1, 8, 32, 32]              16\n",
            "       DoubleConv-24            [-1, 8, 32, 32]               0\n",
            "               Up-25            [-1, 8, 32, 32]               0\n",
            "           Conv2d-26            [-1, 2, 32, 32]              18\n",
            "================================================================\n",
            "Total params: 6,562\n",
            "Trainable params: 6,562\n",
            "Non-trainable params: 0\n",
            "----------------------------------------------------------------\n",
            "Input size (MB): 0.00\n",
            "Forward/backward pass size (MB): 1.28\n",
            "Params size (MB): 0.03\n",
            "Estimated Total Size (MB): 1.31\n",
            "----------------------------------------------------------------\n"
          ]
        }
      ],
      "source": [
        "from torchsummary import summary\n",
        "summary(model, (1, 32, 32))"
      ]
    },
    {
      "cell_type": "code",
      "execution_count": 31,
      "metadata": {
        "id": "6N0Uur3Hv7xk"
      },
      "outputs": [],
      "source": [
        "from tqdm import tqdm, trange\n",
        "import matplotlib.pyplot as plt\n",
        "from IPython.display import clear_output\n"
      ]
    },
    {
      "cell_type": "code",
      "execution_count": 32,
      "metadata": {
        "colab": {
          "base_uri": "https://localhost:8080/",
          "height": 504
        },
        "id": "9nOo-KFXv7xl",
        "outputId": "f5c6fb30-4487-4c70-fa6b-3a742a9bc4fb"
      },
      "outputs": [
        {
          "output_type": "display_data",
          "data": {
            "text/plain": [
              "<Figure size 1000x500 with 1 Axes>"
            ],
            "image/png": "[encoded data removed]"
          },
          "metadata": {}
        },
        {
          "output_type": "stream",
          "name": "stdout",
          "text": [
            "Training completed!\n"
          ]
        }
      ],
      "source": [
        "# Function to plot the loss curve\n",
        "def plot_loss_curve(losses):\n",
        "    clear_output(wait=True)\n",
        "    plt.figure(figsize=(10, 5))\n",
        "    plt.plot(losses)\n",
        "    plt.title('Training Loss Curve')\n",
        "    plt.xlabel('Epoch')\n",
        "    plt.ylabel('Loss')\n",
        "    plt.grid(True)\n",
        "    plt.show()\n",
        "\n",
        "# Initialize list to store losses\n",
        "losses = []\n",
        "\n",
        "for epoch in trange(num_epochs, desc=\"Epochs\"):\n",
        "    model.train()\n",
        "    batch_loss = 0.0\n",
        "\n",
        "    # tqdm wrapper for dataloader\n",
        "    pbar = tqdm(dataloader, desc=f\"Epoch {epoch+1}/{num_epochs}\", position =0, leave=False)\n",
        "\n",
        "    for inputs, targets in pbar:\n",
        "        inputs, targets = inputs.to(device), targets.to(device)\n",
        "\n",
        "        # Zero the parameter gradients\n",
        "        optimizer.zero_grad()\n",
        "\n",
        "        # Forward pass\n",
        "        outputs = model(inputs)\n",
        "        loss = criterion(outputs, targets)\n",
        "\n",
        "        # Backward pass and optimize\n",
        "        loss.backward()\n",
        "        optimizer.step()\n",
        "\n",
        "        batch_loss += loss.item() * inputs.size(0)\n",
        "\n",
        "        # Update progress bar\n",
        "        #pbar.set_postfix({\"batch_loss\": f\"{loss.item():.4f}\"})\n",
        "\n",
        "    epoch_loss = batch_loss / len(dataset)\n",
        "    losses.append(epoch_loss)\n",
        "\n",
        "    # Print epoch loss\n",
        "    #tqdm.write(f\"Epoch [{epoch+1}/{num_epochs}], Loss: {epoch_loss:.4f}\")\n",
        "\n",
        "    if (epoch + 1) % 25 == 0 or epoch == num_epochs - 1:\n",
        "        plot_loss_curve(losses)\n",
        "\n",
        "# Save the trained model\n",
        "torch.save(model.state_dict(), \"unet_model_b_\"+str(batch_size)+\"_ep_\"+str(num_epochs))\n",
        "\n",
        "# Final loss curve plot\n",
        "plot_loss_curve(losses)\n",
        "\n",
        "print(\"Training completed!\")"
      ]
    },
    {
      "cell_type": "code",
      "source": [
        "# Not sure why training is so slow. Should play around more with dataloader.\n",
        "# Maybe it's because I'm keeping the label and only throwing it away when I'm doing getitem\n",
        "# Loss only going down a bit makes sense. I'm working with a very small model (only ~6000 parameters)"
      ],
      "metadata": {
        "id": "xptolLSd429C"
      },
      "execution_count": 39,
      "outputs": []
    },
    {
      "cell_type": "code",
      "execution_count": 123,
      "metadata": {
        "id": "aJNDtOHov7xl"
      },
      "outputs": [],
      "source": [
        "def run_inference_rgb(model, input_tensor):\n",
        "    input = input_tensor[0].to(device).unsqueeze(0)\n",
        "    with torch.no_grad():  # No need to track gradients during inference\n",
        "        output = (model(input).squeeze(0)*128).permute(1,2,0).to('cpu') # unnormalize\n",
        "    l = np.expand_dims(rgb2lab(input_tensor[0].repeat(3,1,1).permute(1,2,0))[:,:,0], 2)\n",
        "    print(l.shape, output.shape)\n",
        "    lab = np.concatenate((l,output), axis=2)\n",
        "    rgb = lab2rgb(lab)\n",
        "    return rgb"
      ]
    },
    {
      "cell_type": "code",
      "source": [
        "input_ex = train_input[3]"
      ],
      "metadata": {
        "id": "XtZsQ5mC4LYZ"
      },
      "execution_count": 130,
      "outputs": []
    },
    {
      "cell_type": "code",
      "source": [
        "im = run_inference_rgb(model, input_ex)"
      ],
      "metadata": {
        "colab": {
          "base_uri": "https://localhost:8080/"
        },
        "id": "hDAann6N4c9e",
        "outputId": "a6d7aa3b-fcee-4ba7-8e44-a9f967930ece"
      },
      "execution_count": 131,
      "outputs": [
        {
          "output_type": "stream",
          "name": "stdout",
          "text": [
            "(32, 32, 1) torch.Size([32, 32, 2])\n"
          ]
        }
      ]
    },
    {
      "cell_type": "code",
      "source": [
        "(input_ex[0].to(device).unsqueeze(0)).shape"
      ],
      "metadata": {
        "colab": {
          "base_uri": "https://localhost:8080/"
        },
        "id": "3G107sHR5lJV",
        "outputId": "f6338089-f49f-4f01-ffa6-cef70f6c5a95"
      },
      "execution_count": 132,
      "outputs": [
        {
          "output_type": "execute_result",
          "data": {
            "text/plain": [
              "torch.Size([1, 1, 32, 32])"
            ]
          },
          "metadata": {},
          "execution_count": 132
        }
      ]
    },
    {
      "cell_type": "code",
      "source": [
        "input_ex[0].shape"
      ],
      "metadata": {
        "colab": {
          "base_uri": "https://localhost:8080/"
        },
        "id": "I0CP4ZQiDM8c",
        "outputId": "21f762ae-fe04-4e58-fd46-c78e98d25e51"
      },
      "execution_count": 135,
      "outputs": [
        {
          "output_type": "execute_result",
          "data": {
            "text/plain": [
              "torch.Size([1, 32, 32])"
            ]
          },
          "metadata": {},
          "execution_count": 135
        }
      ]
    },
    {
      "cell_type": "code",
      "source": [
        "def display(tensor):\n",
        "    return transforms.functional.to_pil_image(tensor)"
      ],
      "metadata": {
        "id": "P7z9do_ZDrDf"
      },
      "execution_count": 136,
      "outputs": []
    },
    {
      "cell_type": "code",
      "source": [
        "display(im)"
      ],
      "metadata": {
        "colab": {
          "base_uri": "https://localhost:8080/",
          "height": 49
        },
        "id": "74JWjY3mGc1r",
        "outputId": "37028d52-1d85-4b49-f57c-d11d0345ba9f"
      },
      "execution_count": 137,
      "outputs": [
        {
          "output_type": "execute_result",
          "data": {
            "text/plain": [
              "<PIL.Image.Image image mode=RGB size=32x32>"
            ],
            "image/png": "[encoded data removed]",
            "image/jpeg": "[encoded data removed]"
          },
          "metadata": {},
          "execution_count": 137
        }
      ]
    },
    {
      "cell_type": "code",
      "source": [],
      "metadata": {
        "id": "HwV7lBwEGgSa"
      },
      "execution_count": null,
      "outputs": []
    }
  ],
  "metadata": {
    "kernelspec": {
      "display_name": "Python 3",
      "name": "python3"
    },
    "language_info": {
      "codemirror_mode": {
        "name": "ipython",
        "version": 3
      },
      "file_extension": ".py",
      "mimetype": "text/x-python",
      "name": "python",
      "nbconvert_exporter": "python",
      "pygments_lexer": "ipython3",
      "version": "3.12.7"
    },
    "colab": {
      "provenance": [],
      "gpuType": "T4"
    },
    "accelerator": "GPU"
  },
  "nbformat": 4,
  "nbformat_minor": 0
}