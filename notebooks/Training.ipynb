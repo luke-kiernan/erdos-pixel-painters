{
 "cells": [
  {
   "cell_type": "code",
   "execution_count": 1,
   "metadata": {},
   "outputs": [],
   "source": [
    "import sys, os, time, copy, gc\n",
    "import torch\n",
    "from torch import nn\n",
    "from torch.utils.data import DataLoader\n",
    "from pathlib import Path\n",
    "import torchvision\n",
    "\n",
    "import numpy as np\n",
    "import pandas as pd\n",
    "\n",
    "import warnings\n",
    "\n",
    "sys.path.append('../src')\n",
    "from train import *\n",
    "from models import *\n",
    "from dataset import *\n",
    "from pre_processing import *\n",
    "\n"
   ]
  },
  {
   "cell_type": "markdown",
   "metadata": {},
   "source": [
    "## Configure the training run"
   ]
  },
  {
   "cell_type": "code",
   "execution_count": 2,
   "metadata": {},
   "outputs": [],
   "source": [
    " # Unet defined in models.py\n",
    "CONFIG ={   \n",
    "    \"model\" : 'UNet',\n",
    "    \"dataset\" : 'CIFAR10',\n",
    "    \"epochs\": 100,\n",
    "    \"train_batch_size\": 50,\n",
    "    \"valid_batch_size\": 50,\n",
    "    \"learning_rate\": 1e-3,\n",
    "    \"weight_decay\": 1e-2,\n",
    "    \"scheduler\": None,\n",
    "    \"model_params\" : {\n",
    "        \"in_channels\": 1,\n",
    "        \"out_channels\": 3,\n",
    "    },\n",
    "    \"scheduler_params\" : {\n",
    "        \"T_max\": 10,\n",
    "        \"min_lr\": 1e-4\n",
    "    },\n",
    "    \"device\" : 'cuda',\n",
    "    \"loss\" : 'MSE',\n",
    "    \"IN_COLORMAP\" : 'GRAY',\n",
    "    \"OUT_COLORMAP\" : 'RGB',\n",
    "    \"display_loss_epoch\" : 5\n",
    "}"
   ]
  },
  {
   "cell_type": "markdown",
   "metadata": {},
   "source": [
    "## Initializing the Device"
   ]
  },
  {
   "cell_type": "code",
   "execution_count": 3,
   "metadata": {},
   "outputs": [
    {
     "name": "stdout",
     "output_type": "stream",
     "text": [
      "Using device: cuda\n"
     ]
    }
   ],
   "source": [
    "if \"device\" not in CONFIG.keys():\n",
    "    CONFIG[\"device\"] = 'cpu' \n",
    "    print(f\"Device was not specified in config. Using device: {CONFIG['device']}\")\n",
    "elif CONFIG[\"device\"] == 'cuda' and torch.cuda.is_available():\n",
    "    device = torch.device(CONFIG['device'])\n",
    "    print(f\"Using device: {device}\")\n",
    "else:\n",
    "    CONFIG[\"device\"] = 'cpu' \n",
    "    print(f\"Using device: {CONFIG['device']}\")"
   ]
  },
  {
   "cell_type": "markdown",
   "metadata": {},
   "source": [
    "## Preparing the Data"
   ]
  },
  {
   "cell_type": "code",
   "execution_count": 4,
   "metadata": {},
   "outputs": [],
   "source": [
    "data_path = Path('../datasets')\n",
    "coco_path = data_path/'coco'"
   ]
  },
  {
   "cell_type": "code",
   "execution_count": 5,
   "metadata": {},
   "outputs": [
    {
     "name": "stdout",
     "output_type": "stream",
     "text": [
      "Using CIFAR10 dataset\n"
     ]
    }
   ],
   "source": [
    "if \"dataset\" not in CONFIG.keys() or CONFIG[\"dataset\"] not in ['CIFAR10', 'COCO']:\n",
    "    warnings.warn(\"Please specify a valid dataset in the config\")\n",
    "\n",
    "elif CONFIG[\"dataset\"] == 'COCO':\n",
    "    print(\"Using COCO dataset\")\n",
    "    coco_train_dataset = torchvision.datasets.CocoDetection(coco_path/'train2017', transform=None)\n",
    "    coco_val_dataset = torchvision.datasets.CocoDetection(coco_path/'val2017', transform=None)\n",
    "elif CONFIG[\"dataset\"] == 'CIFAR10' :\n",
    "    print(\"Using CIFAR10 dataset\")\n",
    "    cifar_train_dataset = torchvision.datasets.CIFAR10(data_path, train=True, transform=None)\n",
    "    cifar_val_dataset = torchvision.datasets.CIFAR10(data_path, train=False, transform=None)"
   ]
  },
  {
   "cell_type": "code",
   "execution_count": 6,
   "metadata": {},
   "outputs": [],
   "source": [
    "transform_in = getTransform_in(CONFIG)\n",
    "transform_out = getTransform_out(CONFIG)\n"
   ]
  },
  {
   "cell_type": "code",
   "execution_count": 7,
   "metadata": {},
   "outputs": [],
   "source": [
    "train_dataset = BuildImageDataset(cifar_train_dataset, transform_in=transform_in, transform_out=transform_out)\n",
    "valid_dataset = BuildImageDataset(cifar_val_dataset, transform_in=transform_in, transform_out=transform_out)"
   ]
  },
  {
   "cell_type": "code",
   "execution_count": 8,
   "metadata": {},
   "outputs": [
    {
     "data": {
      "image/png": "[encoded data removed]",
      "text/plain": [
       "<Figure size 400x400 with 2 Axes>"
      ]
     },
     "metadata": {},
     "output_type": "display_data"
    },
    {
     "data": {
      "image/png": "[encoded data removed]",
      "text/plain": [
       "<Figure size 400x400 with 2 Axes>"
      ]
     },
     "metadata": {},
     "output_type": "display_data"
    }
   ],
   "source": [
    "idx_train = np.random.randint(0, len(train_dataset))\n",
    "idx_valid = np.random.randint(0, len(valid_dataset))\n",
    "#Display random image from train dataset\n",
    "train_dataset.display_img_pair(idx = idx_train,upscaling_factor=4)\n",
    "#Display random image from train dataset\n",
    "valid_dataset.display_img_pair(idx = idx_valid,upscaling_factor=4)"
   ]
  },
  {
   "cell_type": "code",
   "execution_count": 8,
   "metadata": {},
   "outputs": [],
   "source": [
    "train_dataloader = DataLoader(train_dataset, batch_size=CONFIG['train_batch_size'], shuffle=True,pin_memory=True)\n",
    "valid_dataloader = DataLoader(valid_dataset, batch_size=CONFIG['valid_batch_size'], shuffle=False,pin_memory=True)"
   ]
  },
  {
   "cell_type": "code",
   "execution_count": 9,
   "metadata": {},
   "outputs": [
    {
     "name": "stdout",
     "output_type": "stream",
     "text": [
      "Generating summary for model with input size 32x32\n",
      "----------------------------------------------------------------\n",
      "        Layer (type)               Output Shape         Param #\n",
      "================================================================\n",
      "            Conv2d-1           [-1, 64, 32, 32]             640\n",
      "       BatchNorm2d-2           [-1, 64, 32, 32]             128\n",
      "              ReLU-3           [-1, 64, 32, 32]               0\n",
      "            Conv2d-4           [-1, 64, 32, 32]          36,928\n",
      "       BatchNorm2d-5           [-1, 64, 32, 32]             128\n",
      "              ReLU-6           [-1, 64, 32, 32]               0\n",
      "        DoubleConv-7           [-1, 64, 32, 32]               0\n",
      "         MaxPool2d-8           [-1, 64, 16, 16]               0\n",
      "            Conv2d-9          [-1, 128, 16, 16]          73,856\n",
      "      BatchNorm2d-10          [-1, 128, 16, 16]             256\n",
      "             ReLU-11          [-1, 128, 16, 16]               0\n",
      "           Conv2d-12          [-1, 128, 16, 16]         147,584\n",
      "      BatchNorm2d-13          [-1, 128, 16, 16]             256\n",
      "             ReLU-14          [-1, 128, 16, 16]               0\n",
      "       DoubleConv-15          [-1, 128, 16, 16]               0\n",
      "        MaxPool2d-16            [-1, 128, 8, 8]               0\n",
      "           Conv2d-17            [-1, 256, 8, 8]         295,168\n",
      "      BatchNorm2d-18            [-1, 256, 8, 8]             512\n",
      "             ReLU-19            [-1, 256, 8, 8]               0\n",
      "           Conv2d-20            [-1, 256, 8, 8]         590,080\n",
      "      BatchNorm2d-21            [-1, 256, 8, 8]             512\n",
      "             ReLU-22            [-1, 256, 8, 8]               0\n",
      "       DoubleConv-23            [-1, 256, 8, 8]               0\n",
      "        MaxPool2d-24            [-1, 256, 4, 4]               0\n",
      "           Conv2d-25            [-1, 512, 4, 4]       1,180,160\n",
      "      BatchNorm2d-26            [-1, 512, 4, 4]           1,024\n",
      "             ReLU-27            [-1, 512, 4, 4]               0\n",
      "           Conv2d-28            [-1, 512, 4, 4]       2,359,808\n",
      "      BatchNorm2d-29            [-1, 512, 4, 4]           1,024\n",
      "             ReLU-30            [-1, 512, 4, 4]               0\n",
      "       DoubleConv-31            [-1, 512, 4, 4]               0\n",
      "  ConvTranspose2d-32            [-1, 256, 8, 8]         524,544\n",
      "           Conv2d-33            [-1, 256, 8, 8]       1,179,904\n",
      "      BatchNorm2d-34            [-1, 256, 8, 8]             512\n",
      "             ReLU-35            [-1, 256, 8, 8]               0\n",
      "           Conv2d-36            [-1, 256, 8, 8]         590,080\n",
      "      BatchNorm2d-37            [-1, 256, 8, 8]             512\n",
      "             ReLU-38            [-1, 256, 8, 8]               0\n",
      "       DoubleConv-39            [-1, 256, 8, 8]               0\n",
      "  ConvTranspose2d-40          [-1, 128, 16, 16]         131,200\n",
      "           Conv2d-41          [-1, 128, 16, 16]         295,040\n",
      "      BatchNorm2d-42          [-1, 128, 16, 16]             256\n",
      "             ReLU-43          [-1, 128, 16, 16]               0\n",
      "           Conv2d-44          [-1, 128, 16, 16]         147,584\n",
      "      BatchNorm2d-45          [-1, 128, 16, 16]             256\n",
      "             ReLU-46          [-1, 128, 16, 16]               0\n",
      "       DoubleConv-47          [-1, 128, 16, 16]               0\n",
      "  ConvTranspose2d-48           [-1, 64, 32, 32]          32,832\n",
      "           Conv2d-49           [-1, 64, 32, 32]          73,792\n",
      "      BatchNorm2d-50           [-1, 64, 32, 32]             128\n",
      "             ReLU-51           [-1, 64, 32, 32]               0\n",
      "           Conv2d-52           [-1, 64, 32, 32]          36,928\n",
      "      BatchNorm2d-53           [-1, 64, 32, 32]             128\n",
      "             ReLU-54           [-1, 64, 32, 32]               0\n",
      "       DoubleConv-55           [-1, 64, 32, 32]               0\n",
      "           Conv2d-56            [-1, 3, 32, 32]             195\n",
      "================================================================\n",
      "Total params: 7,701,955\n",
      "Trainable params: 7,701,955\n",
      "Non-trainable params: 0\n",
      "----------------------------------------------------------------\n",
      "Input size (MB): 0.00\n",
      "Forward/backward pass size (MB): 13.80\n",
      "Params size (MB): 29.38\n",
      "Estimated Total Size (MB): 43.19\n",
      "----------------------------------------------------------------\n"
     ]
    },
    {
     "data": {
      "text/plain": [
       "7701955"
      ]
     },
     "execution_count": 9,
     "metadata": {},
     "output_type": "execute_result"
    }
   ],
   "source": [
    "model = setup_model(CONFIG)\n",
    "display_trainable_params(model)"
   ]
  },
  {
   "cell_type": "markdown",
   "metadata": {},
   "source": [
    "## Run the Training"
   ]
  },
  {
   "cell_type": "code",
   "execution_count": 10,
   "metadata": {},
   "outputs": [],
   "source": [
    "optimizer = optim.AdamW(model.parameters(), lr=CONFIG['learning_rate'], weight_decay=CONFIG['weight_decay'])\n",
    "scheduler = fetch_scheduler(optimizer, CONFIG)"
   ]
  },
  {
   "cell_type": "code",
   "execution_count": 11,
   "metadata": {},
   "outputs": [
    {
     "data": {
      "image/png": "[encoded data removed]",
      "text/plain": [
       "<Figure size 1000x500 with 1 Axes>"
      ]
     },
     "metadata": {},
     "output_type": "display_data"
    },
    {
     "name": "stdout",
     "output_type": "stream",
     "text": [
      "Epoch [100/100], Train Loss: 0.0031, Validation Loss: 0.0192, LR: 0.001000\n",
      "Training complete in 1h 15m 8s\n"
     ]
    }
   ],
   "source": [
    "model_out, train_loss,valid_loss, lr_rate = train_model(\n",
    "    train_loader= train_dataloader,\n",
    "    valid_loader= valid_dataloader,\n",
    "    model= model,\n",
    "    optimizer= optimizer,\n",
    "    scheduler= scheduler,\n",
    "    CONFIG= CONFIG)"
   ]
  },
  {
   "cell_type": "markdown",
   "metadata": {},
   "source": [
    "## Save the model checkpoint"
   ]
  },
  {
   "cell_type": "code",
   "execution_count": 13,
   "metadata": {},
   "outputs": [
    {
     "name": "stdout",
     "output_type": "stream",
     "text": [
      "Model saved\n"
     ]
    }
   ],
   "source": [
    "checkpoint = {\n",
    "    'model': model_out,\n",
    "    'state_dict': model_out.state_dict(),\n",
    "    'optimizer': optimizer.state_dict(),\n",
    "    #'scheduler': scheduler.state_dict(),\n",
    "    'CONFIG': CONFIG,\n",
    "    'train_loss': train_loss,\n",
    "    'valid_loss': valid_loss,\n",
    "    'lr_rate': lr_rate\n",
    "}\n",
    "#not using hash_config for now\n",
    "def hash_config(config):\n",
    "    import hashlib\n",
    "    return hashlib.md5(str(config).encode()).hexdigest()\n",
    "#get date and time\n",
    "now = time.localtime()\n",
    "if not os.path.exists(f'../models/{CONFIG[\"model\"]}_{time.strftime(\"%Y-%m-%d_%H_%M\", now)}.pth'):\n",
    "    torch.save(checkpoint, f'../models/{CONFIG[\"model\"]}_{time.strftime(\"%Y-%m-%d_%H_%M\", now)}.pth')\n",
    "    print(\"Model saved\")\n",
    "else:\n",
    "    print(\"Model name already exists\")\n",
    "    print(f'../models/{CONFIG[\"model\"]}_{time.strftime(\"%Y-%m-%d_%H_%M\", now)}.pth')"
   ]
  }
 ],
 "metadata": {
  "kernelspec": {
   "display_name": "Python 3",
   "language": "python",
   "name": "python3"
  },
  "language_info": {
   "codemirror_mode": {
    "name": "ipython",
    "version": 3
   },
   "file_extension": ".py",
   "mimetype": "text/x-python",
   "name": "python",
   "nbconvert_exporter": "python",
   "pygments_lexer": "ipython3",
   "version": "3.10.0"
  }
 },
 "nbformat": 4,
 "nbformat_minor": 2
}
