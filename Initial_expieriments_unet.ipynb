{
 "cells": [
  {
   "cell_type": "code",
   "execution_count": 1,
   "metadata": {},
   "outputs": [],
   "source": [
    "import torch\n",
    "import torchvision\n",
    "import torchvision.transforms as transforms"
   ]
  },
  {
   "cell_type": "code",
   "execution_count": 2,
   "metadata": {},
   "outputs": [],
   "source": [
    "transform = transforms.Compose([\n",
    "    transforms.ToTensor(),\n",
    "    transforms.Normalize((0.5, 0.5, 0.5), (0.5, 0.5, 0.5))\n",
    "])"
   ]
  },
  {
   "cell_type": "code",
   "execution_count": 3,
   "metadata": {},
   "outputs": [
    {
     "name": "stdout",
     "output_type": "stream",
     "text": [
      "Files already downloaded and verified\n"
     ]
    }
   ],
   "source": [
    "trainset = torchvision.datasets.CIFAR10(root='./data', train=True,download=True, transform=transform)"
   ]
  },
  {
   "cell_type": "code",
   "execution_count": 4,
   "metadata": {},
   "outputs": [
    {
     "name": "stdout",
     "output_type": "stream",
     "text": [
      "Files already downloaded and verified\n"
     ]
    }
   ],
   "source": [
    "testset = torchvision.datasets.CIFAR10(root='./data', train=False,\n",
    "                                       download=True, transform=transform)"
   ]
  },
  {
   "cell_type": "markdown",
   "metadata": {},
   "source": [
    "# Display Random Image"
   ]
  },
  {
   "cell_type": "code",
   "execution_count": 5,
   "metadata": {},
   "outputs": [],
   "source": [
    "classes = ('plane', 'car', 'bird', 'cat', 'deer', 'dog', 'frog', 'horse', 'ship', 'truck')"
   ]
  },
  {
   "cell_type": "code",
   "execution_count": 6,
   "metadata": {},
   "outputs": [],
   "source": [
    "import matplotlib.pyplot as plt\n",
    "import numpy as np\n",
    "import torch\n",
    "\n",
    "#def imshow(img):\n",
    "#    img = img / 2 + 0.5     # unnormalize\n",
    "#    npimg = img.numpy()\n",
    "#    plt.imshow(np.transpose(npimg, (1, 2, 0)))\n",
    "#    plt.axis('off')\n",
    "#    plt.show()\n",
    "\n",
    "def imshow(img, upscale_factor=4):\n",
    "    img = img / 2 + 0.5     # unnormalize\n",
    "    npimg = img.numpy()\n",
    "    #print(npimg.shape)\n",
    "\n",
    "    plt.figure(figsize=(upscale_factor, upscale_factor))\n",
    "    if npimg.shape[0] == 3:\n",
    "        plt.imshow(np.transpose(npimg, (1, 2, 0)), interpolation='nearest')\n",
    "    else:\n",
    "        plt.imshow(npimg, cmap='gray')\n",
    "        \n",
    "    #print(np.shape(np.transpose(npimg, (1, 2, 0))))\n",
    "    plt.axis('off')\n",
    "    plt.show()"
   ]
  },
  {
   "cell_type": "code",
   "execution_count": 7,
   "metadata": {},
   "outputs": [],
   "source": [
    "def display_image(dataset,idx=-1):\n",
    "    # Get a random index if idx is not specified\n",
    "    if idx == -1:\n",
    "        idx = torch.randint(0, len(dataset), (1,)).item()\n",
    "    #print(idx)\n",
    "    \n",
    "    # Get the image and label at the random index\n",
    "    img, label = dataset[idx]\n",
    "    #print(dataset[idx])\n",
    "    \n",
    "    # Display the image\n",
    "    imshow(img,1)\n",
    "    \n",
    "    # Print the label\n",
    "    print(f\"Label: {classes[label]}\")"
   ]
  },
  {
   "cell_type": "code",
   "execution_count": 8,
   "metadata": {},
   "outputs": [
    {
     "data": {
      "image/png": "[encoded data removed]",
      "text/plain": [
       "<Figure size 100x100 with 1 Axes>"
      ]
     },
     "metadata": {},
     "output_type": "display_data"
    },
    {
     "name": "stdout",
     "output_type": "stream",
     "text": [
      "Label: cat\n"
     ]
    }
   ],
   "source": [
    "display_image(trainset,3000)"
   ]
  },
  {
   "cell_type": "code",
   "execution_count": 9,
   "metadata": {},
   "outputs": [],
   "source": [
    "\n",
    "def convert_to_grayscale(dataset):\n",
    "    new_dataset = []\n",
    "    for img, label in dataset:\n",
    "        weights = torch.tensor([0.2989, 0.5870, 0.1140]).view( 3, 1, 1)\n",
    "        # Convert to grayscale\n",
    "        gray_img  = torch.sum(img * weights, dim=0)\n",
    "\n",
    "        new_val = [gray_img,label]\n",
    "        new_dataset.append(new_val)\n",
    "    return new_dataset"
   ]
  },
  {
   "cell_type": "code",
   "execution_count": 10,
   "metadata": {},
   "outputs": [],
   "source": [
    "trainset_grayscale = convert_to_grayscale(trainset)\n",
    "testset_grayscale = convert_to_grayscale(testset)"
   ]
  },
  {
   "cell_type": "code",
   "execution_count": 11,
   "metadata": {},
   "outputs": [
    {
     "data": {
      "image/png": "[encoded data removed]",
      "text/plain": [
       "<Figure size 100x100 with 1 Axes>"
      ]
     },
     "metadata": {},
     "output_type": "display_data"
    },
    {
     "name": "stdout",
     "output_type": "stream",
     "text": [
      "Label: bird\n"
     ]
    }
   ],
   "source": [
    "idx = 9876\n",
    "display_image(trainset,idx)"
   ]
  },
  {
   "cell_type": "code",
   "execution_count": 12,
   "metadata": {},
   "outputs": [
    {
     "data": {
      "image/png": "[encoded data removed]",
      "text/plain": [
       "<Figure size 100x100 with 1 Axes>"
      ]
     },
     "metadata": {},
     "output_type": "display_data"
    },
    {
     "name": "stdout",
     "output_type": "stream",
     "text": [
      "Label: bird\n"
     ]
    }
   ],
   "source": [
    "display_image(trainset_grayscale,idx)"
   ]
  },
  {
   "cell_type": "markdown",
   "metadata": {},
   "source": [
    "# Build a PyTorch Network to train"
   ]
  },
  {
   "cell_type": "code",
   "execution_count": 13,
   "metadata": {},
   "outputs": [],
   "source": [
    "import torch\n",
    "import torch.nn as nn\n",
    "from torch.nn import functional as F\n"
   ]
  },
  {
   "cell_type": "code",
   "execution_count": 14,
   "metadata": {},
   "outputs": [],
   "source": [
    "class DoubleConv(nn.Module):\n",
    "    def __init__(self, in_channels, out_channels):\n",
    "        super(DoubleConv, self).__init__()\n",
    "        self.conv = nn.Sequential(\n",
    "            nn.Conv2d(in_channels, out_channels, 3, padding=1),\n",
    "            nn.BatchNorm2d(out_channels),\n",
    "            nn.ReLU(inplace=True),\n",
    "            nn.Conv2d(out_channels, out_channels, 3, padding=1),\n",
    "            nn.BatchNorm2d(out_channels),\n",
    "            nn.ReLU(inplace=True)\n",
    "        )\n",
    "\n",
    "    def forward(self, x):\n",
    "        return self.conv(x)\n",
    "\n",
    "class UNet(nn.Module):\n",
    "    def __init__(self,normalization='none'):\n",
    "        super(UNet, self).__init__()\n",
    "        \n",
    "        self.enc1 = DoubleConv(1, 64)\n",
    "        self.enc2 = DoubleConv(64, 128)\n",
    "        self.enc3 = DoubleConv(128, 256)\n",
    "        self.enc4 = DoubleConv(256, 512)\n",
    "        \n",
    "        self.pool = nn.MaxPool2d(2)\n",
    "        \n",
    "        self.dec3 = DoubleConv(512 , 256)\n",
    "        self.dec2 = DoubleConv(256, 128)\n",
    "        self.dec1 = DoubleConv(128, 64)\n",
    "        \n",
    "        self.upconv3 = nn.ConvTranspose2d(512, 256, kernel_size=2, stride=2)\n",
    "        self.upconv2 = nn.ConvTranspose2d(256, 128, kernel_size=2, stride=2)\n",
    "        self.upconv1 = nn.ConvTranspose2d(128, 64, kernel_size=2, stride=2)\n",
    "        \n",
    "        self.final_conv = nn.Conv2d(64, 3, kernel_size=1)\n",
    "\n",
    "        self.normalization = normalization\n",
    "\n",
    "    def forward(self, x):\n",
    "        # Encoder\n",
    "        e1 = self.enc1(x)\n",
    "        #print(f\"After enc1: {e1.shape}\")\n",
    "        \n",
    "        e2 = self.enc2(self.pool(e1))\n",
    "        #print(f\"After enc2: {e2.shape}\")\n",
    "        \n",
    "        e3 = self.enc3(self.pool(e2))\n",
    "        #print(f\"After enc3: {e3.shape}\")\n",
    "        \n",
    "        e4 = self.enc4(self.pool(e3))\n",
    "        #print(f\"After enc4: {e4.shape}\")\n",
    "        \n",
    "        # Decoder\n",
    "        d3 = self.upconv3(e4)\n",
    "        #print(f\"After upconv3: {d3.shape}\")\n",
    "        d3 = torch.cat([d3, e3], dim=1)\n",
    "        #print(f\"After concat with e3: {d3.shape}\")\n",
    "        d3 = self.dec3(d3)\n",
    "        #print(f\"After dec3: {d3.shape}\")\n",
    "        \n",
    "        d2 = self.upconv2(d3)\n",
    "        #print(f\"After upconv2: {d2.shape}\")\n",
    "        d2 = torch.cat([d2, e2], dim=1)\n",
    "        #print(f\"After concat with e2: {d2.shape}\")\n",
    "        d2 = self.dec2(d2)\n",
    "        #print(f\"After dec2: {d2.shape}\")\n",
    "        \n",
    "        d1 = self.upconv1(d2)\n",
    "        #print(f\"After upconv1: {d1.shape}\")\n",
    "        d1 = torch.cat([d1, e1], dim=1)\n",
    "        #print(f\"After concat with e1: {d1.shape}\")\n",
    "        d1 = self.dec1(d1)\n",
    "        #print(f\"After dec1: {d1.shape}\")\n",
    "        \n",
    "        out = self.final_conv(d1)\n",
    "        #print(f\"Final output shape: {out.shape}\")\n",
    "        #apply normalization\n",
    "        if self.normalization == 'softmax':\n",
    "            out = self.channel_softmax_norm(out)\n",
    "        elif self.normalization == 'sigmoid':\n",
    "            out = torch.sigmoid(out)\n",
    "        elif self.normalization == 'minmax':\n",
    "            out = self.channel_minmax_norm(out)\n",
    "        \n",
    "        return out\n",
    "       \n",
    "    \n",
    "def channel_softmax_norm(x):\n",
    "    b, c, h, w = x.shape\n",
    "    # Reshape to (batch, channels, height * width)\n",
    "    x_reshaped = x.view(b, c, -1)\n",
    "    # Apply softmax independently for each channel\n",
    "    x_softmax = F.softmax(x_reshaped, dim=2)\n",
    "    # Reshape back to original shape\n",
    "    return x_softmax.view(b, c, h, w)\n",
    "\n",
    "def channel_minmax_norm(x):\n",
    "    b, c, h, w = x.shape\n",
    "    # Reshape to (batch, channels, height * width)\n",
    "    x_reshaped = x.view(b, c, -1)\n",
    "    x_min = x_reshaped.min(dim=2, keepdim=True)[0]\n",
    "    x_max = x_reshaped.max(dim=2, keepdim=True)[0]\n",
    "    # Normalize\n",
    "    x_normalized = (x_reshaped - x_min) / (x_max - x_min + 1e-8)\n",
    "    # Reshape back to original shape\n",
    "    return x_normalized.view(b, c, h, w)\n",
    "    "
   ]
  },
  {
   "cell_type": "code",
   "execution_count": 15,
   "metadata": {},
   "outputs": [],
   "source": [
    "device = torch.device(\"cuda\" if torch.cuda.is_available() else \"cpu\")\n",
    "model = UNet().to(device)"
   ]
  },
  {
   "cell_type": "code",
   "execution_count": 16,
   "metadata": {},
   "outputs": [
    {
     "data": {
      "text/plain": [
       "torch.Size([1, 32, 32])"
      ]
     },
     "execution_count": 16,
     "metadata": {},
     "output_type": "execute_result"
    }
   ],
   "source": [
    "torch.rand(1,32,32).shape"
   ]
  },
  {
   "cell_type": "code",
   "execution_count": 17,
   "metadata": {},
   "outputs": [
    {
     "data": {
      "text/plain": [
       "torch.Size([5, 3, 32, 32])"
      ]
     },
     "execution_count": 17,
     "metadata": {},
     "output_type": "execute_result"
    }
   ],
   "source": [
    "out = model(torch.rand(5,1,32,32).to(device))\n",
    "out.shape"
   ]
  },
  {
   "cell_type": "code",
   "execution_count": 18,
   "metadata": {},
   "outputs": [],
   "source": [
    "# Erlang Unet\n",
    "class DoubleConv_Er(nn.Module):\n",
    "    def __init__(self, in_channels, out_channels):\n",
    "        super().__init__()\n",
    "        self.double_conv = nn.Sequential(\n",
    "            nn.Conv2d(in_channels, out_channels, kernel_size=3, padding=1),\n",
    "            nn.ReLU(inplace=True),\n",
    "            nn.BatchNorm2d(out_channels),\n",
    "            nn.Conv2d(out_channels, out_channels, kernel_size=3, padding=1),\n",
    "            nn.ReLU(inplace=True),\n",
    "            nn.BatchNorm2d(out_channels)\n",
    "        )\n",
    "\n",
    "    def forward(self, x):\n",
    "        return self.double_conv(x)\n",
    "\n",
    "class Down_Er(nn.Module):\n",
    "    def __init__(self, in_channels, out_channels):\n",
    "        super().__init__()\n",
    "        self.maxpool_conv = nn.Sequential(\n",
    "            nn.MaxPool2d(2),\n",
    "            DoubleConv(in_channels, out_channels)\n",
    "        )\n",
    "\n",
    "    def forward(self, x):\n",
    "        return self.maxpool_conv(x)\n",
    "\n",
    "\n",
    "class Up_Er(nn.Module):\n",
    "    def __init__(self, in_channels, out_channels):\n",
    "        super().__init__()\n",
    "        self.up = nn.ConvTranspose2d(in_channels, in_channels // 2, kernel_size=2, stride=2)\n",
    "        self.conv = DoubleConv(in_channels, out_channels)\n",
    "\n",
    "    def forward(self, x1, x2):\n",
    "        x1 = self.up(x1)\n",
    "        x = torch.cat([x2, x1], dim=1)\n",
    "        return self.conv(x)\n",
    "\n",
    "class UNet_Er(nn.Module):\n",
    "\n",
    "    def __init__(self,depth=2, starting_width=64): # depth is the number of times you go down in the UNet\n",
    "        super().__init__()\n",
    "        self.conv = DoubleConv(1, starting_width)\n",
    "        self.depth = depth\n",
    "        self.down_list = nn.ModuleList([Down_Er(starting_width*2**i, starting_width*2**(i+1)) for i in range(depth)])\n",
    "        self.up_list = nn.ModuleList([Up_Er(starting_width*2**i,starting_width*2**(i-1)) for i in range(depth, 0,-1)])\n",
    "        self.final_conv = nn.Conv2d(starting_width, 3, kernel_size=1)\n",
    "\n",
    "    def forward(self, x):\n",
    "        x_arr = [self.conv(x)]\n",
    "\n",
    "        for down in self.down_list:\n",
    "            x_arr.append(down(x_arr[-1]))\n",
    "        y_arr = [self.up_list[0](x_arr[-1],x_arr[-2])]\n",
    "\n",
    "\n",
    "        for i,up in enumerate(self.up_list[1:]):\n",
    "            y_arr.append( up(y_arr[-1], x_arr[-i-3]) )\n",
    "\n",
    "        out = self.final_conv(y_arr[-1])\n",
    "        return out\n",
    "\n"
   ]
  },
  {
   "cell_type": "markdown",
   "metadata": {},
   "source": [
    "# Define Data loader and training\n"
   ]
  },
  {
   "cell_type": "code",
   "execution_count": 19,
   "metadata": {},
   "outputs": [],
   "source": [
    "import torch.optim as optim\n",
    "from torch.utils.data import Dataset, DataLoader\n",
    "from torchvision import transforms\n",
    "from tqdm import tqdm, trange\n"
   ]
  },
  {
   "cell_type": "code",
   "execution_count": 20,
   "metadata": {},
   "outputs": [],
   "source": [
    "class CustomDataset(Dataset):\n",
    "    def __init__(self, input_data, target_data, transform=None):\n",
    "        self.input_data = input_data\n",
    "        self.target_data = target_data\n",
    "        #self.transform = transform\n",
    "\n",
    "    def __len__(self):\n",
    "        return len(self.input_data)\n",
    "\n",
    "    def __getitem__(self, idx):\n",
    "        input_image = self.input_data[idx]\n",
    "        target_image = self.target_data[idx]\n",
    "        \n",
    "        #if self.transform:\n",
    "        #    input_image = self.transform(input_image)\n",
    "        #    target_image = self.transform(target_image)\n",
    "        \n",
    "        return input_image, target_image\n",
    "\n",
    "# Hyperparameters\n",
    "batch_size = 1000\n",
    "learning_rate = 0.001\n",
    "weight_decay = 0.01  # AdamW weight decay parameter\n",
    "num_epochs = 10\n"
   ]
  },
  {
   "cell_type": "code",
   "execution_count": 21,
   "metadata": {},
   "outputs": [],
   "source": [
    "norm = 'none'\n",
    "device = torch.device(\"cuda\" if torch.cuda.is_available() else \"cpu\")\n",
    "model = UNet_Er(depth =2).to(device)\n"
   ]
  },
  {
   "cell_type": "code",
   "execution_count": 22,
   "metadata": {},
   "outputs": [],
   "source": [
    "#extract only images from the grayscale dataset\n",
    "input_data = [img.unsqueeze(0) for img, _ in trainset_grayscale]\n",
    "#if norm == 'sigmoid': \n",
    "if norm == 'sigmoid':\n",
    "    target_data = [torch.sigmoid(img) for img, _ in trainset]\n",
    "if norm == 'softmax':\n",
    "    target_data = [ channel_softmax_norm(img.unsqueeze(0)).squeeze(0) for img, _ in trainset]\n",
    "else:\n",
    "    target_data = [img for img, _ in trainset]"
   ]
  },
  {
   "cell_type": "code",
   "execution_count": 23,
   "metadata": {},
   "outputs": [],
   "source": [
    "dataset = CustomDataset(input_data, target_data)\n",
    "dataloader = DataLoader(dataset, batch_size=batch_size, shuffle=True,pin_memory=True)"
   ]
  },
  {
   "cell_type": "code",
   "execution_count": 24,
   "metadata": {},
   "outputs": [],
   "source": [
    "criterion = nn.MSELoss()\n",
    "optimizer = optim.AdamW(model.parameters(), lr=learning_rate, weight_decay=weight_decay)"
   ]
  },
  {
   "cell_type": "code",
   "execution_count": 25,
   "metadata": {},
   "outputs": [
    {
     "data": {
      "text/plain": [
       "1864387"
      ]
     },
     "execution_count": 25,
     "metadata": {},
     "output_type": "execute_result"
    }
   ],
   "source": [
    "#Number of parameters that are trainable\n",
    "\n",
    "sum(p.numel() for p in model.parameters() if p.requires_grad)"
   ]
  },
  {
   "cell_type": "code",
   "execution_count": 26,
   "metadata": {},
   "outputs": [
    {
     "name": "stdout",
     "output_type": "stream",
     "text": [
      "----------------------------------------------------------------\n",
      "        Layer (type)               Output Shape         Param #\n",
      "================================================================\n",
      "            Conv2d-1           [-1, 64, 32, 32]             640\n",
      "       BatchNorm2d-2           [-1, 64, 32, 32]             128\n",
      "              ReLU-3           [-1, 64, 32, 32]               0\n",
      "            Conv2d-4           [-1, 64, 32, 32]          36,928\n",
      "       BatchNorm2d-5           [-1, 64, 32, 32]             128\n",
      "              ReLU-6           [-1, 64, 32, 32]               0\n",
      "        DoubleConv-7           [-1, 64, 32, 32]               0\n",
      "         MaxPool2d-8           [-1, 64, 16, 16]               0\n",
      "            Conv2d-9          [-1, 128, 16, 16]          73,856\n",
      "      BatchNorm2d-10          [-1, 128, 16, 16]             256\n",
      "             ReLU-11          [-1, 128, 16, 16]               0\n",
      "           Conv2d-12          [-1, 128, 16, 16]         147,584\n",
      "      BatchNorm2d-13          [-1, 128, 16, 16]             256\n",
      "             ReLU-14          [-1, 128, 16, 16]               0\n",
      "       DoubleConv-15          [-1, 128, 16, 16]               0\n",
      "          Down_Er-16          [-1, 128, 16, 16]               0\n",
      "        MaxPool2d-17            [-1, 128, 8, 8]               0\n",
      "           Conv2d-18            [-1, 256, 8, 8]         295,168\n",
      "      BatchNorm2d-19            [-1, 256, 8, 8]             512\n",
      "             ReLU-20            [-1, 256, 8, 8]               0\n",
      "           Conv2d-21            [-1, 256, 8, 8]         590,080\n",
      "      BatchNorm2d-22            [-1, 256, 8, 8]             512\n",
      "             ReLU-23            [-1, 256, 8, 8]               0\n",
      "       DoubleConv-24            [-1, 256, 8, 8]               0\n",
      "          Down_Er-25            [-1, 256, 8, 8]               0\n",
      "  ConvTranspose2d-26          [-1, 128, 16, 16]         131,200\n",
      "           Conv2d-27          [-1, 128, 16, 16]         295,040\n",
      "      BatchNorm2d-28          [-1, 128, 16, 16]             256\n",
      "             ReLU-29          [-1, 128, 16, 16]               0\n",
      "           Conv2d-30          [-1, 128, 16, 16]         147,584\n",
      "      BatchNorm2d-31          [-1, 128, 16, 16]             256\n",
      "             ReLU-32          [-1, 128, 16, 16]               0\n",
      "       DoubleConv-33          [-1, 128, 16, 16]               0\n",
      "            Up_Er-34          [-1, 128, 16, 16]               0\n",
      "  ConvTranspose2d-35           [-1, 64, 32, 32]          32,832\n",
      "           Conv2d-36           [-1, 64, 32, 32]          73,792\n",
      "      BatchNorm2d-37           [-1, 64, 32, 32]             128\n",
      "             ReLU-38           [-1, 64, 32, 32]               0\n",
      "           Conv2d-39           [-1, 64, 32, 32]          36,928\n",
      "      BatchNorm2d-40           [-1, 64, 32, 32]             128\n",
      "             ReLU-41           [-1, 64, 32, 32]               0\n",
      "       DoubleConv-42           [-1, 64, 32, 32]               0\n",
      "            Up_Er-43           [-1, 64, 32, 32]               0\n",
      "           Conv2d-44            [-1, 3, 32, 32]             195\n",
      "================================================================\n",
      "Total params: 1,864,387\n",
      "Trainable params: 1,864,387\n",
      "Non-trainable params: 0\n",
      "----------------------------------------------------------------\n",
      "Input size (MB): 0.00\n",
      "Forward/backward pass size (MB): 13.46\n",
      "Params size (MB): 7.11\n",
      "Estimated Total Size (MB): 20.58\n",
      "----------------------------------------------------------------\n"
     ]
    }
   ],
   "source": [
    "from torchsummary import summary\n",
    "summary(model, (1, 32, 32))"
   ]
  },
  {
   "cell_type": "code",
   "execution_count": 27,
   "metadata": {},
   "outputs": [
    {
     "data": {
      "image/png": "[encoded data removed]",
      "text/plain": [
       "<Figure size 1000x500 with 1 Axes>"
      ]
     },
     "metadata": {},
     "output_type": "display_data"
    },
    {
     "name": "stdout",
     "output_type": "stream",
     "text": [
      "Training completed!\n"
     ]
    }
   ],
   "source": [
    "\n",
    "from tqdm import tqdm, trange\n",
    "import matplotlib.pyplot as plt\n",
    "from IPython.display import clear_output\n",
    "\n",
    "# Function to plot the loss curve\n",
    "def plot_loss_curve(losses):\n",
    "    clear_output(wait=True)\n",
    "    plt.figure(figsize=(10, 5))\n",
    "    plt.plot(losses)\n",
    "    plt.title('Training Loss Curve')\n",
    "    plt.xlabel('Epoch')\n",
    "    plt.ylabel('Loss')\n",
    "    plt.grid(True)\n",
    "    plt.show()\n",
    "\n",
    "# Initialize list to store losses\n",
    "losses = []\n",
    "\n",
    "for epoch in trange(num_epochs, desc=\"Epochs\"):\n",
    "    model.train()\n",
    "    batch_loss = 0.0\n",
    "    \n",
    "    # tqdm wrapper for dataloader\n",
    "    pbar = tqdm(dataloader, desc=f\"Epoch {epoch+1}/{num_epochs}\", position =0, leave=False)\n",
    "    \n",
    "    for inputs, targets in pbar:\n",
    "        inputs, targets = inputs.to(device), targets.to(device)\n",
    "        \n",
    "        # Zero the parameter gradients\n",
    "        optimizer.zero_grad()\n",
    "        \n",
    "        # Forward pass\n",
    "        outputs = model(inputs)\n",
    "        loss = criterion(outputs, targets)\n",
    "        \n",
    "        # Backward pass and optimize\n",
    "        loss.backward()\n",
    "        optimizer.step()\n",
    "        \n",
    "        batch_loss += loss.item() * inputs.size(0)\n",
    "        \n",
    "        # Update progress bar\n",
    "        #pbar.set_postfix({\"batch_loss\": f\"{loss.item():.4f}\"})\n",
    "    \n",
    "    epoch_loss = batch_loss / len(dataset)\n",
    "    losses.append(epoch_loss)\n",
    "    \n",
    "    # Print epoch loss\n",
    "    tqdm.write(f\"Epoch [{epoch+1}/{num_epochs}], Loss: {epoch_loss:.4f}\")\n",
    "    \n",
    "    # Plot loss curve every 5 epochs or at the last epoch\n",
    "    if (epoch + 1) % 5 == 0 or epoch == num_epochs - 1:\n",
    "        plot_loss_curve(losses)\n",
    "\n",
    "# Save the trained model\n",
    "torch.save(model.state_dict(), \"unet_model_b_\"+str(batch_size)+\"_ep_\"+str(num_epochs)+\"_norm_\"+norm+\".pth\")\n",
    "\n",
    "# Final loss curve plot\n",
    "plot_loss_curve(losses)\n",
    "\n",
    "print(\"Training completed!\")"
   ]
  },
  {
   "cell_type": "code",
   "execution_count": 29,
   "metadata": {},
   "outputs": [],
   "source": [
    "torch.cuda.empty_cache()"
   ]
  },
  {
   "cell_type": "code",
   "execution_count": 41,
   "metadata": {},
   "outputs": [
    {
     "name": "stderr",
     "output_type": "stream",
     "text": [
      "/tmp/ipykernel_1103634/3570613712.py:3: FutureWarning: You are using `torch.load` with `weights_only=False` (the current default value), which uses the default pickle module implicitly. It is possible to construct malicious pickle data which will execute arbitrary code during unpickling (See https://github.com/pytorch/pytorch/blob/main/SECURITY.md#untrusted-models for more details). In a future release, the default value for `weights_only` will be flipped to `True`. This limits the functions that could be executed during unpickling. Arbitrary objects will no longer be allowed to be loaded via this mode unless they are explicitly allowlisted by the user via `torch.serialization.add_safe_globals`. We recommend you start setting `weights_only=True` for any use case where you don't have full control of the loaded file. Please open an issue on GitHub for any issues related to this experimental feature.\n",
      "  model_infer.load_state_dict(torch.load(\"unet_model_b_50_ep_100.pth\", map_location=torch.device(device)))\n"
     ]
    }
   ],
   "source": [
    "#load model from disk\n",
    "norm_list = ('none','sigmoid','softmax','minmax')\n",
    "norm = norm_list[1]\n",
    "print(f\"Using model with \"{norm}\"  normalization\")\n",
    "model_infer = UNet(normalzation = norm).to(device)\n",
    "model_infer.load_state_dict(torch.load(\"unet_model_b_50_ep_100_\"+norm+\".pth\", map_location=torch.device(device)))\n",
    "#run inference\n",
    "def run_inference(model, input_tensor):\n",
    "    with torch.no_grad():  # No need to track gradients during inference\n",
    "        output = model(input_tensor)\n",
    "    return output"
   ]
  },
  {
   "cell_type": "markdown",
   "metadata": {},
   "source": [
    "# Run inference on Random train sample"
   ]
  },
  {
   "cell_type": "code",
   "execution_count": 51,
   "metadata": {},
   "outputs": [
    {
     "name": "stdout",
     "output_type": "stream",
     "text": [
      "38376\n"
     ]
    }
   ],
   "source": [
    "#randomly select an image from the trainset_grayscale\n",
    "import random\n",
    "idx = random.randint(0, len(trainset_grayscale))\n",
    "print(idx)\n",
    "input_img, _ = trainset_grayscale[idx]\n",
    "input_tensor = input_img.reshape(1,1,32,32).to(device)\n",
    "test_output = run_inference(model_infer, input_tensor)"
   ]
  },
  {
   "cell_type": "code",
   "execution_count": 52,
   "metadata": {},
   "outputs": [
    {
     "data": {
      "image/png": "[encoded data removed]",
      "text/plain": [
       "<Figure size 100x100 with 1 Axes>"
      ]
     },
     "metadata": {},
     "output_type": "display_data"
    },
    {
     "name": "stdout",
     "output_type": "stream",
     "text": [
      "Label: deer\n"
     ]
    },
    {
     "data": {
      "image/png": "[encoded data removed]",
      "text/plain": [
       "<Figure size 100x100 with 1 Axes>"
      ]
     },
     "metadata": {},
     "output_type": "display_data"
    },
    {
     "name": "stderr",
     "output_type": "stream",
     "text": [
      "Clipping input data to the valid range for imshow with RGB data ([0..1] for floats or [0..255] for integers).\n"
     ]
    },
    {
     "name": "stdout",
     "output_type": "stream",
     "text": [
      "Label: deer\n"
     ]
    },
    {
     "data": {
      "image/png": "[encoded data removed]",
      "text/plain": [
       "<Figure size 100x100 with 1 Axes>"
      ]
     },
     "metadata": {},
     "output_type": "display_data"
    }
   ],
   "source": [
    "display_image(trainset_grayscale,idx)\n",
    "display_image(trainset,idx)\n",
    "imshow(test_output.squeeze(0).to('cpu'),1)"
   ]
  },
  {
   "cell_type": "markdown",
   "metadata": {},
   "source": [
    "# Run inference on Random Test sample"
   ]
  },
  {
   "cell_type": "code",
   "execution_count": 63,
   "metadata": {},
   "outputs": [
    {
     "name": "stdout",
     "output_type": "stream",
     "text": [
      "5599\n"
     ]
    }
   ],
   "source": [
    "#randomly select an image from the testset_grayscale\n",
    "import random\n",
    "idx = random.randint(0, len(testset_grayscale))\n",
    "print(idx)\n",
    "input_img, _ = testset_grayscale[idx]\n",
    "input_tensor = input_img.reshape(1,1,32,32).to(device)\n",
    "test_output = run_inference(model_infer, input_tensor)"
   ]
  },
  {
   "cell_type": "code",
   "execution_count": 64,
   "metadata": {},
   "outputs": [
    {
     "data": {
      "image/png": "[encoded data removed]",
      "text/plain": [
       "<Figure size 100x100 with 1 Axes>"
      ]
     },
     "metadata": {},
     "output_type": "display_data"
    },
    {
     "name": "stdout",
     "output_type": "stream",
     "text": [
      "Label: bird\n"
     ]
    },
    {
     "data": {
      "image/png": "[encoded data removed]",
      "text/plain": [
       "<Figure size 100x100 with 1 Axes>"
      ]
     },
     "metadata": {},
     "output_type": "display_data"
    },
    {
     "name": "stderr",
     "output_type": "stream",
     "text": [
      "Clipping input data to the valid range for imshow with RGB data ([0..1] for floats or [0..255] for integers).\n"
     ]
    },
    {
     "name": "stdout",
     "output_type": "stream",
     "text": [
      "Label: bird\n"
     ]
    },
    {
     "data": {
      "image/png": "[encoded data removed]",
      "text/plain": [
       "<Figure size 100x100 with 1 Axes>"
      ]
     },
     "metadata": {},
     "output_type": "display_data"
    }
   ],
   "source": [
    "display_image(testset_grayscale,idx)\n",
    "display_image(testset,idx)\n",
    "imshow(test_output.squeeze(0).to('cpu'),1)"
   ]
  },
  {
   "cell_type": "code",
   "execution_count": null,
   "metadata": {},
   "outputs": [],
   "source": []
  }
 ],
 "metadata": {
  "kernelspec": {
   "display_name": "Python 3",
   "language": "python",
   "name": "python3"
  },
  "language_info": {
   "codemirror_mode": {
    "name": "ipython",
    "version": 3
   },
   "file_extension": ".py",
   "mimetype": "text/x-python",
   "name": "python",
   "nbconvert_exporter": "python",
   "pygments_lexer": "ipython3",
   "version": "3.10.0"
  }
 },
 "nbformat": 4,
 "nbformat_minor": 2
}
